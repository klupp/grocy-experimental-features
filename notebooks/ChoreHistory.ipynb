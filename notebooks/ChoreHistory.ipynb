{
 "cells": [
  {
   "cell_type": "code",
   "execution_count": 1,
   "id": "cb8abaab",
   "metadata": {
    "ExecuteTime": {
     "end_time": "2024-03-10T20:46:32.191982Z",
     "start_time": "2024-03-10T20:46:30.510915Z"
    }
   },
   "outputs": [],
   "source": [
    "import numpy as np\n",
    "import requests\n",
    "from collections import Counter\n",
    "import seaborn as sns\n",
    "import pandas as pd\n",
    "import matplotlib.pyplot as plt\n",
    "import matplotlib.dates as mdates"
   ]
  },
  {
   "cell_type": "code",
   "execution_count": 2,
   "id": "1d871fcf",
   "metadata": {
    "ExecuteTime": {
     "end_time": "2024-03-10T20:50:08.174841Z",
     "start_time": "2024-03-10T20:50:08.074848Z"
    }
   },
   "outputs": [],
   "source": [
    "headers = {\"accept\": \"application/json\", \"GROCY-API-KEY\": \"\"}\n",
    "url = 'http://192.168.0.36:8040/api/objects/chores_log?query%5B%5D=chore_id%3D17'\n",
    "chore_log = requests.get(url, headers=headers).json()"
   ]
  },
  {
   "cell_type": "code",
   "execution_count": 3,
   "id": "8e3fdd15",
   "metadata": {
    "ExecuteTime": {
     "end_time": "2024-03-10T20:50:14.540660Z",
     "start_time": "2024-03-10T20:50:14.532466Z"
    }
   },
   "outputs": [],
   "source": [
    "df = pd.DataFrame.from_dict(chore_log, orient='columns')"
   ]
  },
  {
   "cell_type": "code",
   "execution_count": 7,
   "id": "ee5f70af",
   "metadata": {
    "ExecuteTime": {
     "end_time": "2024-03-10T20:52:27.915828Z",
     "start_time": "2024-03-10T20:52:27.910771Z"
    }
   },
   "outputs": [],
   "source": [
    "df = df[df['undone'] == 0]\n",
    "df = df[df['skipped'] == 0]"
   ]
  },
  {
   "cell_type": "code",
   "execution_count": 11,
   "id": "6f9a3863",
   "metadata": {
    "ExecuteTime": {
     "end_time": "2024-03-10T20:56:32.066216Z",
     "start_time": "2024-03-10T20:56:32.059252Z"
    }
   },
   "outputs": [],
   "source": [
    "df['cum_count'] = df.groupby('done_by_user_id').cumcount() + 1"
   ]
  },
  {
   "cell_type": "code",
   "execution_count": 16,
   "id": "7d9f22b2",
   "metadata": {
    "ExecuteTime": {
     "end_time": "2024-03-10T20:58:07.891713Z",
     "start_time": "2024-03-10T20:58:07.882362Z"
    }
   },
   "outputs": [
    {
     "data": {
      "text/html": [
       "<div>\n",
       "<style scoped>\n",
       "    .dataframe tbody tr th:only-of-type {\n",
       "        vertical-align: middle;\n",
       "    }\n",
       "\n",
       "    .dataframe tbody tr th {\n",
       "        vertical-align: top;\n",
       "    }\n",
       "\n",
       "    .dataframe thead th {\n",
       "        text-align: right;\n",
       "    }\n",
       "</style>\n",
       "<table border=\"1\" class=\"dataframe\">\n",
       "  <thead>\n",
       "    <tr style=\"text-align: right;\">\n",
       "      <th></th>\n",
       "      <th>id</th>\n",
       "      <th>chore_id</th>\n",
       "      <th>tracked_time</th>\n",
       "      <th>done_by_user_id</th>\n",
       "      <th>row_created_timestamp</th>\n",
       "      <th>undone</th>\n",
       "      <th>undone_timestamp</th>\n",
       "      <th>skipped</th>\n",
       "      <th>cum_count</th>\n",
       "    </tr>\n",
       "  </thead>\n",
       "  <tbody>\n",
       "    <tr>\n",
       "      <th>173</th>\n",
       "      <td>2145</td>\n",
       "      <td>17</td>\n",
       "      <td>2024-02-29 20:36:33</td>\n",
       "      <td>2</td>\n",
       "      <td>2024-02-29 19:36:33</td>\n",
       "      <td>0</td>\n",
       "      <td>None</td>\n",
       "      <td>0</td>\n",
       "      <td>88</td>\n",
       "    </tr>\n",
       "    <tr>\n",
       "      <th>174</th>\n",
       "      <td>2178</td>\n",
       "      <td>17</td>\n",
       "      <td>2024-03-07 08:23:01</td>\n",
       "      <td>3</td>\n",
       "      <td>2024-03-07 07:23:02</td>\n",
       "      <td>0</td>\n",
       "      <td>None</td>\n",
       "      <td>0</td>\n",
       "      <td>85</td>\n",
       "    </tr>\n",
       "    <tr>\n",
       "      <th>175</th>\n",
       "      <td>2190</td>\n",
       "      <td>17</td>\n",
       "      <td>2024-03-10 09:43:01</td>\n",
       "      <td>3</td>\n",
       "      <td>2024-03-10 08:43:01</td>\n",
       "      <td>0</td>\n",
       "      <td>None</td>\n",
       "      <td>0</td>\n",
       "      <td>86</td>\n",
       "    </tr>\n",
       "    <tr>\n",
       "      <th>176</th>\n",
       "      <td>2197</td>\n",
       "      <td>17</td>\n",
       "      <td>2024-03-10 21:33:22</td>\n",
       "      <td>3</td>\n",
       "      <td>2024-03-10 20:33:22</td>\n",
       "      <td>0</td>\n",
       "      <td>None</td>\n",
       "      <td>0</td>\n",
       "      <td>87</td>\n",
       "    </tr>\n",
       "    <tr>\n",
       "      <th>177</th>\n",
       "      <td>2198</td>\n",
       "      <td>17</td>\n",
       "      <td>2024-03-10 21:34:23</td>\n",
       "      <td>2</td>\n",
       "      <td>2024-03-10 20:34:23</td>\n",
       "      <td>0</td>\n",
       "      <td>None</td>\n",
       "      <td>0</td>\n",
       "      <td>89</td>\n",
       "    </tr>\n",
       "  </tbody>\n",
       "</table>\n",
       "</div>"
      ],
      "text/plain": [
       "       id  chore_id         tracked_time  done_by_user_id  \\\n",
       "173  2145        17  2024-02-29 20:36:33                2   \n",
       "174  2178        17  2024-03-07 08:23:01                3   \n",
       "175  2190        17  2024-03-10 09:43:01                3   \n",
       "176  2197        17  2024-03-10 21:33:22                3   \n",
       "177  2198        17  2024-03-10 21:34:23                2   \n",
       "\n",
       "    row_created_timestamp  undone undone_timestamp  skipped  cum_count  \n",
       "173   2024-02-29 19:36:33       0             None        0         88  \n",
       "174   2024-03-07 07:23:02       0             None        0         85  \n",
       "175   2024-03-10 08:43:01       0             None        0         86  \n",
       "176   2024-03-10 20:33:22       0             None        0         87  \n",
       "177   2024-03-10 20:34:23       0             None        0         89  "
      ]
     },
     "execution_count": 16,
     "metadata": {},
     "output_type": "execute_result"
    }
   ],
   "source": [
    "df.tail()"
   ]
  },
  {
   "cell_type": "code",
   "execution_count": 15,
   "id": "31dcf4c9",
   "metadata": {
    "ExecuteTime": {
     "end_time": "2024-03-10T20:57:39.199900Z",
     "start_time": "2024-03-10T20:57:37.652035Z"
    }
   },
   "outputs": [
    {
     "data": {
      "text/plain": [
       "<AxesSubplot:xlabel='tracked_time', ylabel='cum_count'>"
      ]
     },
     "execution_count": 15,
     "metadata": {},
     "output_type": "execute_result"
    },
    {
     "data": {
      "image/png": "[encoded data removed]",
      "text/plain": [
       "<Figure size 640x480 with 1 Axes>"
      ]
     },
     "metadata": {},
     "output_type": "display_data"
    }
   ],
   "source": [
    "sns.lineplot(data=df, x=\"tracked_time\", y=\"cum_count\", hue=\"done_by_user_id\")"
   ]
  },
  {
   "cell_type": "code",
   "execution_count": null,
   "id": "ecc12964",
   "metadata": {},
   "outputs": [],
   "source": []
  }
 ],
 "metadata": {
  "kernelspec": {
   "display_name": "Python [conda env:.conda-jupyter] *",
   "language": "python",
   "name": "conda-env-.conda-jupyter-py"
  },
  "language_info": {
   "codemirror_mode": {
    "name": "ipython",
    "version": 3
   },
   "file_extension": ".py",
   "mimetype": "text/x-python",
   "name": "python",
   "nbconvert_exporter": "python",
   "pygments_lexer": "ipython3",
   "version": "3.9.13"
  },
  "toc": {
   "base_numbering": 1,
   "nav_menu": {},
   "number_sections": true,
   "sideBar": true,
   "skip_h1_title": false,
   "title_cell": "Table of Contents",
   "title_sidebar": "Contents",
   "toc_cell": false,
   "toc_position": {},
   "toc_section_display": true,
   "toc_window_display": false
  },
  "varInspector": {
   "cols": {
    "lenName": 16,
    "lenType": 16,
    "lenVar": 40
   },
   "kernels_config": {
    "python": {
     "delete_cmd_postfix": "",
     "delete_cmd_prefix": "del ",
     "library": "var_list.py",
     "varRefreshCmd": "print(var_dic_list())"
    },
    "r": {
     "delete_cmd_postfix": ") ",
     "delete_cmd_prefix": "rm(",
     "library": "var_list.r",
     "varRefreshCmd": "cat(var_dic_list()) "
    }
   },
   "types_to_exclude": [
    "module",
    "function",
    "builtin_function_or_method",
    "instance",
    "_Feature"
   ],
   "window_display": false
  }
 },
 "nbformat": 4,
 "nbformat_minor": 5
}
