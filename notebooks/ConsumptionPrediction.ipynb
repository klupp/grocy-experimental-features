{
 "cells": [
  {
   "cell_type": "code",
   "execution_count": 3,
   "id": "5d03be26",
   "metadata": {
    "ExecuteTime": {
     "end_time": "2024-02-24T12:01:46.121471Z",
     "start_time": "2024-02-24T12:01:44.467641Z"
    }
   },
   "outputs": [],
   "source": [
    "import numpy as np\n",
    "import requests\n",
    "from collections import Counter\n",
    "import seaborn as sns\n",
    "import pandas as pd\n",
    "import matplotlib.pyplot as plt\n",
    "import matplotlib.dates as mdates\n",
    "from statsmodels.tsa.statespace.sarimax import SARIMAX, SARIMAXResults\n",
    "from statsmodels.tsa.arima.model import ARIMA, ARIMAResults"
   ]
  },
  {
   "cell_type": "code",
   "execution_count": 4,
   "id": "154bfe37",
   "metadata": {
    "ExecuteTime": {
     "end_time": "2024-02-24T12:01:46.219781Z",
     "start_time": "2024-02-24T12:01:46.129984Z"
    }
   },
   "outputs": [],
   "source": [
    "headers = {\"accept\": \"application/json\", \"GROCY-API-KEY\": \"pN7OJvWIR2zTQqQOyT8ENlDuZ5k8t2oVHWNmEcaOd2omdcOJoY\"}\n",
    "\n",
    "product_log = requests.get(\"http://192.168.0.36:8040/api/objects/stock_log?query%5B%5D=product_id%3D148\", headers=headers).json()"
   ]
  },
  {
   "cell_type": "code",
   "execution_count": 5,
   "id": "206ecb9a",
   "metadata": {
    "ExecuteTime": {
     "end_time": "2024-02-24T12:01:46.645265Z",
     "start_time": "2024-02-24T12:01:46.622422Z"
    }
   },
   "outputs": [
    {
     "data": {
      "text/plain": [
       "[{'id': 1464,\n",
       "  'product_id': 148,\n",
       "  'amount': -100,\n",
       "  'best_before_date': '2023-03-30',\n",
       "  'purchased_date': '2023-03-17',\n",
       "  'used_date': '2023-04-28',\n",
       "  'spoiled': 0,\n",
       "  'stock_id': '6414d11e7a167',\n",
       "  'transaction_type': 'consume',\n",
       "  'price': None,\n",
       "  'undone': 0,\n",
       "  'undone_timestamp': None,\n",
       "  'opened_date': '2023-03-17',\n",
       "  'location_id': 5,\n",
       "  'recipe_id': None,\n",
       "  'correlation_id': None,\n",
       "  'transaction_id': '644c136f2353c',\n",
       "  'stock_row_id': None,\n",
       "  'shopping_location_id': None,\n",
       "  'user_id': 3,\n",
       "  'row_created_timestamp': '2023-04-28 18:41:51',\n",
       "  'note': 'Suntat Grün'},\n",
       " {'id': 2175,\n",
       "  'product_id': 148,\n",
       "  'amount': -200,\n",
       "  'best_before_date': '2023-03-30',\n",
       "  'purchased_date': '2023-03-17',\n",
       "  'used_date': '2023-05-18',\n",
       "  'spoiled': 0,\n",
       "  'stock_id': '6414d11e7a167',\n",
       "  'transaction_type': 'consume',\n",
       "  'price': None,\n",
       "  'undone': 0,\n",
       "  'undone_timestamp': None,\n",
       "  'opened_date': '2023-03-17',\n",
       "  'location_id': 5,\n",
       "  'recipe_id': 8,\n",
       "  'correlation_id': None,\n",
       "  'transaction_id': '6465d378240f3',\n",
       "  'stock_row_id': None,\n",
       "  'shopping_location_id': None,\n",
       "  'user_id': 2,\n",
       "  'row_created_timestamp': '2023-05-18 07:27:53',\n",
       "  'note': 'Suntat Grün'},\n",
       " {'id': 2827,\n",
       "  'product_id': 148,\n",
       "  'amount': -200,\n",
       "  'best_before_date': '2023-03-30',\n",
       "  'purchased_date': '2023-03-17',\n",
       "  'used_date': '2023-06-11',\n",
       "  'spoiled': 0,\n",
       "  'stock_id': '6414d11e7a167',\n",
       "  'transaction_type': 'consume',\n",
       "  'price': None,\n",
       "  'undone': 0,\n",
       "  'undone_timestamp': None,\n",
       "  'opened_date': '2023-03-17',\n",
       "  'location_id': 5,\n",
       "  'recipe_id': 8,\n",
       "  'correlation_id': None,\n",
       "  'transaction_id': '64863094e06c1',\n",
       "  'stock_row_id': None,\n",
       "  'shopping_location_id': None,\n",
       "  'user_id': 2,\n",
       "  'row_created_timestamp': '2023-06-11 20:37:41',\n",
       "  'note': 'Suntat Grün'},\n",
       " {'id': 763,\n",
       "  'product_id': 148,\n",
       "  'amount': 500,\n",
       "  'best_before_date': '2023-03-30',\n",
       "  'purchased_date': '2023-03-17',\n",
       "  'used_date': None,\n",
       "  'spoiled': 0,\n",
       "  'stock_id': '6414d11e7a167',\n",
       "  'transaction_type': 'inventory-correction',\n",
       "  'price': None,\n",
       "  'undone': 0,\n",
       "  'undone_timestamp': None,\n",
       "  'opened_date': None,\n",
       "  'location_id': 3,\n",
       "  'recipe_id': None,\n",
       "  'correlation_id': None,\n",
       "  'transaction_id': '6414d11e7a164',\n",
       "  'stock_row_id': None,\n",
       "  'shopping_location_id': 2,\n",
       "  'user_id': 3,\n",
       "  'row_created_timestamp': '2023-03-17 20:44:14',\n",
       "  'note': 'Suntat Grün'},\n",
       " {'id': 764,\n",
       "  'product_id': 148,\n",
       "  'amount': 500,\n",
       "  'best_before_date': '2023-03-30',\n",
       "  'purchased_date': '2023-03-17',\n",
       "  'used_date': None,\n",
       "  'spoiled': 0,\n",
       "  'stock_id': '6414d11e7a167',\n",
       "  'transaction_type': 'product-opened',\n",
       "  'price': None,\n",
       "  'undone': 0,\n",
       "  'undone_timestamp': None,\n",
       "  'opened_date': '2023-03-17',\n",
       "  'location_id': 3,\n",
       "  'recipe_id': None,\n",
       "  'correlation_id': None,\n",
       "  'transaction_id': '6414d14be1c2a',\n",
       "  'stock_row_id': None,\n",
       "  'shopping_location_id': 2,\n",
       "  'user_id': 3,\n",
       "  'row_created_timestamp': '2023-03-17 20:44:59',\n",
       "  'note': 'Suntat Grün'},\n",
       " {'id': 1181,\n",
       "  'product_id': 148,\n",
       "  'amount': -500,\n",
       "  'best_before_date': '2023-03-30',\n",
       "  'purchased_date': '2023-03-17',\n",
       "  'used_date': None,\n",
       "  'spoiled': 0,\n",
       "  'stock_id': '6414d11e7a167',\n",
       "  'transaction_type': 'transfer_from',\n",
       "  'price': None,\n",
       "  'undone': 0,\n",
       "  'undone_timestamp': None,\n",
       "  'opened_date': '2023-03-17',\n",
       "  'location_id': 3,\n",
       "  'recipe_id': None,\n",
       "  'correlation_id': '643d9a21d63a2',\n",
       "  'transaction_id': '643d9a21d62c1',\n",
       "  'stock_row_id': None,\n",
       "  'shopping_location_id': 2,\n",
       "  'user_id': 3,\n",
       "  'row_created_timestamp': '2023-04-17 19:12:33',\n",
       "  'note': 'Suntat Grün'},\n",
       " {'id': 1182,\n",
       "  'product_id': 148,\n",
       "  'amount': 500,\n",
       "  'best_before_date': '2023-03-30',\n",
       "  'purchased_date': '2023-03-17',\n",
       "  'used_date': None,\n",
       "  'spoiled': 0,\n",
       "  'stock_id': '6414d11e7a167',\n",
       "  'transaction_type': 'transfer_to',\n",
       "  'price': None,\n",
       "  'undone': 0,\n",
       "  'undone_timestamp': None,\n",
       "  'opened_date': '2023-03-17',\n",
       "  'location_id': 5,\n",
       "  'recipe_id': None,\n",
       "  'correlation_id': '643d9a21d63a2',\n",
       "  'transaction_id': '643d9a21d62c1',\n",
       "  'stock_row_id': None,\n",
       "  'shopping_location_id': 2,\n",
       "  'user_id': 3,\n",
       "  'row_created_timestamp': '2023-04-17 19:12:33',\n",
       "  'note': 'Suntat Grün'},\n",
       " {'id': 797,\n",
       "  'product_id': 148,\n",
       "  'amount': -100,\n",
       "  'best_before_date': '2025-12-19',\n",
       "  'purchased_date': '2023-03-17',\n",
       "  'used_date': '2023-03-18',\n",
       "  'spoiled': 0,\n",
       "  'stock_id': '6414d0d81dcd0',\n",
       "  'transaction_type': 'consume',\n",
       "  'price': None,\n",
       "  'undone': 0,\n",
       "  'undone_timestamp': None,\n",
       "  'opened_date': '2023-03-18',\n",
       "  'location_id': 3,\n",
       "  'recipe_id': None,\n",
       "  'correlation_id': None,\n",
       "  'transaction_id': '6415f70ce284b',\n",
       "  'stock_row_id': None,\n",
       "  'shopping_location_id': None,\n",
       "  'user_id': 2,\n",
       "  'row_created_timestamp': '2023-03-18 17:38:20',\n",
       "  'note': 'Kaufland'},\n",
       " {'id': 5492,\n",
       "  'product_id': 148,\n",
       "  'amount': -400,\n",
       "  'best_before_date': '2025-12-19',\n",
       "  'purchased_date': '2023-03-17',\n",
       "  'used_date': '2023-10-15',\n",
       "  'spoiled': 0,\n",
       "  'stock_id': '6414d0d81dcd0',\n",
       "  'transaction_type': 'consume',\n",
       "  'price': None,\n",
       "  'undone': 0,\n",
       "  'undone_timestamp': None,\n",
       "  'opened_date': '2023-03-18',\n",
       "  'location_id': 17,\n",
       "  'recipe_id': None,\n",
       "  'correlation_id': None,\n",
       "  'transaction_id': '652bc7307007d',\n",
       "  'stock_row_id': None,\n",
       "  'shopping_location_id': None,\n",
       "  'user_id': 2,\n",
       "  'row_created_timestamp': '2023-10-15 11:04:16',\n",
       "  'note': 'Kaufland'},\n",
       " {'id': 796,\n",
       "  'product_id': 148,\n",
       "  'amount': -500,\n",
       "  'best_before_date': '2025-12-19',\n",
       "  'purchased_date': '2023-03-17',\n",
       "  'used_date': '2023-03-18',\n",
       "  'spoiled': 0,\n",
       "  'stock_id': '6414d0d81dcd0',\n",
       "  'transaction_type': 'consume',\n",
       "  'price': None,\n",
       "  'undone': 1,\n",
       "  'undone_timestamp': '2023-03-18 17:37:34',\n",
       "  'opened_date': '2023-03-18',\n",
       "  'location_id': 3,\n",
       "  'recipe_id': None,\n",
       "  'correlation_id': None,\n",
       "  'transaction_id': '6415f6dc13f0c',\n",
       "  'stock_row_id': None,\n",
       "  'shopping_location_id': None,\n",
       "  'user_id': 2,\n",
       "  'row_created_timestamp': '2023-03-18 17:37:32',\n",
       "  'note': 'Kaufland'},\n",
       " {'id': 762,\n",
       "  'product_id': 148,\n",
       "  'amount': 500,\n",
       "  'best_before_date': '2025-12-19',\n",
       "  'purchased_date': '2023-03-17',\n",
       "  'used_date': None,\n",
       "  'spoiled': 0,\n",
       "  'stock_id': '6414d0d81dcd0',\n",
       "  'transaction_type': 'inventory-correction',\n",
       "  'price': None,\n",
       "  'undone': 0,\n",
       "  'undone_timestamp': None,\n",
       "  'opened_date': None,\n",
       "  'location_id': 3,\n",
       "  'recipe_id': None,\n",
       "  'correlation_id': None,\n",
       "  'transaction_id': '6414d0d81dccd',\n",
       "  'stock_row_id': None,\n",
       "  'shopping_location_id': 1,\n",
       "  'user_id': 3,\n",
       "  'row_created_timestamp': '2023-03-17 20:43:04',\n",
       "  'note': 'Kaufland'},\n",
       " {'id': 795,\n",
       "  'product_id': 148,\n",
       "  'amount': 500,\n",
       "  'best_before_date': '2025-12-19',\n",
       "  'purchased_date': '2023-03-17',\n",
       "  'used_date': None,\n",
       "  'spoiled': 0,\n",
       "  'stock_id': '6414d0d81dcd0',\n",
       "  'transaction_type': 'product-opened',\n",
       "  'price': None,\n",
       "  'undone': 0,\n",
       "  'undone_timestamp': None,\n",
       "  'opened_date': '2023-03-18',\n",
       "  'location_id': 3,\n",
       "  'recipe_id': None,\n",
       "  'correlation_id': None,\n",
       "  'transaction_id': '6415f6bce870a',\n",
       "  'stock_row_id': None,\n",
       "  'shopping_location_id': 1,\n",
       "  'user_id': 2,\n",
       "  'row_created_timestamp': '2023-03-18 17:37:00',\n",
       "  'note': 'Kaufland'},\n",
       " {'id': 5102,\n",
       "  'product_id': 148,\n",
       "  'amount': 400,\n",
       "  'best_before_date': '2025-12-19',\n",
       "  'purchased_date': '2023-03-17',\n",
       "  'used_date': None,\n",
       "  'spoiled': 0,\n",
       "  'stock_id': '6414d0d81dcd0',\n",
       "  'transaction_type': 'stock-edit-new',\n",
       "  'price': None,\n",
       "  'undone': 0,\n",
       "  'undone_timestamp': None,\n",
       "  'opened_date': '2023-03-18',\n",
       "  'location_id': 17,\n",
       "  'recipe_id': None,\n",
       "  'correlation_id': '651d79ab4e4b7',\n",
       "  'transaction_id': '651d79ab4e4b8',\n",
       "  'stock_row_id': 343,\n",
       "  'shopping_location_id': None,\n",
       "  'user_id': 1,\n",
       "  'row_created_timestamp': '2023-10-04 14:41:47',\n",
       "  'note': 'Kaufland'},\n",
       " {'id': 5101,\n",
       "  'product_id': 148,\n",
       "  'amount': 400,\n",
       "  'best_before_date': '2025-12-19',\n",
       "  'purchased_date': '2023-03-17',\n",
       "  'used_date': None,\n",
       "  'spoiled': 0,\n",
       "  'stock_id': '6414d0d81dcd0',\n",
       "  'transaction_type': 'stock-edit-old',\n",
       "  'price': None,\n",
       "  'undone': 0,\n",
       "  'undone_timestamp': None,\n",
       "  'opened_date': '2023-03-18',\n",
       "  'location_id': 5,\n",
       "  'recipe_id': None,\n",
       "  'correlation_id': '651d79ab4e4b7',\n",
       "  'transaction_id': '651d79ab4e4b8',\n",
       "  'stock_row_id': 343,\n",
       "  'shopping_location_id': None,\n",
       "  'user_id': 1,\n",
       "  'row_created_timestamp': '2023-10-04 14:41:47',\n",
       "  'note': 'Kaufland'},\n",
       " {'id': 1183,\n",
       "  'product_id': 148,\n",
       "  'amount': -400,\n",
       "  'best_before_date': '2025-12-19',\n",
       "  'purchased_date': '2023-03-17',\n",
       "  'used_date': None,\n",
       "  'spoiled': 0,\n",
       "  'stock_id': '6414d0d81dcd0',\n",
       "  'transaction_type': 'transfer_from',\n",
       "  'price': None,\n",
       "  'undone': 0,\n",
       "  'undone_timestamp': None,\n",
       "  'opened_date': '2023-03-18',\n",
       "  'location_id': 3,\n",
       "  'recipe_id': None,\n",
       "  'correlation_id': '643d9a21de4ff',\n",
       "  'transaction_id': '643d9a21d62c1',\n",
       "  'stock_row_id': None,\n",
       "  'shopping_location_id': None,\n",
       "  'user_id': 3,\n",
       "  'row_created_timestamp': '2023-04-17 19:12:33',\n",
       "  'note': 'Kaufland'},\n",
       " {'id': 1184,\n",
       "  'product_id': 148,\n",
       "  'amount': 400,\n",
       "  'best_before_date': '2025-12-19',\n",
       "  'purchased_date': '2023-03-17',\n",
       "  'used_date': None,\n",
       "  'spoiled': 0,\n",
       "  'stock_id': '6414d0d81dcd0',\n",
       "  'transaction_type': 'transfer_to',\n",
       "  'price': None,\n",
       "  'undone': 0,\n",
       "  'undone_timestamp': None,\n",
       "  'opened_date': '2023-03-18',\n",
       "  'location_id': 5,\n",
       "  'recipe_id': None,\n",
       "  'correlation_id': '643d9a21de4ff',\n",
       "  'transaction_id': '643d9a21d62c1',\n",
       "  'stock_row_id': None,\n",
       "  'shopping_location_id': None,\n",
       "  'user_id': 3,\n",
       "  'row_created_timestamp': '2023-04-17 19:12:33',\n",
       "  'note': 'Kaufland'},\n",
       " {'id': 6769,\n",
       "  'product_id': 148,\n",
       "  'amount': -125,\n",
       "  'best_before_date': '2026-02-21',\n",
       "  'purchased_date': '2023-04-28',\n",
       "  'used_date': '2023-12-23',\n",
       "  'spoiled': 0,\n",
       "  'stock_id': '644c05f4a7398',\n",
       "  'transaction_type': 'consume',\n",
       "  'price': 0.00378,\n",
       "  'undone': 0,\n",
       "  'undone_timestamp': None,\n",
       "  'opened_date': '2023-12-23',\n",
       "  'location_id': 17,\n",
       "  'recipe_id': None,\n",
       "  'correlation_id': None,\n",
       "  'transaction_id': '6586a80f5c36f',\n",
       "  'stock_row_id': None,\n",
       "  'shopping_location_id': None,\n",
       "  'user_id': 3,\n",
       "  'row_created_timestamp': '2023-12-23 09:27:43',\n",
       "  'note': None},\n",
       " {'id': 6770,\n",
       "  'product_id': 148,\n",
       "  'amount': -50,\n",
       "  'best_before_date': '2026-02-21',\n",
       "  'purchased_date': '2023-04-28',\n",
       "  'used_date': '2023-12-23',\n",
       "  'spoiled': 0,\n",
       "  'stock_id': '644c05f4a7398',\n",
       "  'transaction_type': 'consume',\n",
       "  '"
      ]
     },
     "execution_count": 5,
     "metadata": {},
     "output_type": "execute_result"
    },
    {
     "data": {
      "text/html": [
       "<b>limit_output extension: Maximum message size of 10000 exceeded with 13753 characters</b>"
      ]
     },
     "metadata": {},
     "output_type": "display_data"
    }
   ],
   "source": [
    "product_log"
   ]
  },
  {
   "cell_type": "code",
   "execution_count": 6,
   "id": "c3a8c6a2",
   "metadata": {
    "ExecuteTime": {
     "end_time": "2024-02-24T12:01:47.102083Z",
     "start_time": "2024-02-24T12:01:47.063897Z"
    }
   },
   "outputs": [],
   "source": [
    "df = pd.DataFrame.from_dict(product_log, orient='columns')\n",
    "df['row_created_timestamp'] = pd.to_datetime(df['row_created_timestamp'])\n",
    "df['spoiled'] = df['spoiled'].astype(bool)\n",
    "df['undone'] = df['undone'].astype(bool)\n",
    "df = df.sort_values(by='row_created_timestamp')\n",
    "df = df.set_index('row_created_timestamp')\n",
    "df = df[df['transaction_type'].isin(['consume'])]\n",
    "df = df[df['undone'] == False]\n",
    "df = df[df['spoiled'] == False]\n",
    "df['consumption'] = df['amount'] * (-1)\n",
    "df = df[['consumption']]\n",
    "df = df.append(pd.DataFrame({'consumption': 0}, index=[pd.to_datetime('2023-03-01')]))\n",
    "df = df.append(pd.DataFrame({'consumption': 0}, index=[pd.Timestamp.now()]))\n",
    "df = df.resample('1D').sum()\n",
    "df['cum_consumption'] = df['consumption'].cumsum()\n",
    "df = df[['cum_consumption']]"
   ]
  },
  {
   "cell_type": "code",
   "execution_count": 7,
   "id": "13471f94",
   "metadata": {
    "ExecuteTime": {
     "end_time": "2024-02-24T12:01:47.704490Z",
     "start_time": "2024-02-24T12:01:47.507470Z"
    }
   },
   "outputs": [
    {
     "data": {
      "text/plain": [
       "[<matplotlib.lines.Line2D at 0x7f2aaf064dc0>]"
      ]
     },
     "execution_count": 7,
     "metadata": {},
     "output_type": "execute_result"
    },
    {
     "data": {
      "image/png": "[encoded data removed]",
      "text/plain": [
       "<Figure size 640x480 with 1 Axes>"
      ]
     },
     "metadata": {},
     "output_type": "display_data"
    }
   ],
   "source": [
    "# plt.plot(df_final, color = \"black\", label = \"Train\")\n",
    "plt.plot(df, color = \"red\", label = \"Test\")"
   ]
  },
  {
   "cell_type": "code",
   "execution_count": 8,
   "id": "bdafccb0",
   "metadata": {
    "ExecuteTime": {
     "end_time": "2024-02-24T12:01:49.892017Z",
     "start_time": "2024-02-24T12:01:49.888388Z"
    }
   },
   "outputs": [],
   "source": [
    "train = df.iloc[:-50, :].copy()\n",
    "test = df.iloc[-50:, :].copy()\n",
    "pred = test.copy()\n",
    "y = train"
   ]
  },
  {
   "cell_type": "code",
   "execution_count": 9,
   "id": "b1b1dac0",
   "metadata": {
    "ExecuteTime": {
     "end_time": "2024-02-24T12:01:51.179275Z",
     "start_time": "2024-02-24T12:01:50.252899Z"
    }
   },
   "outputs": [
    {
     "name": "stdout",
     "output_type": "stream",
     "text": [
      "RUNNING THE L-BFGS-B CODE\n",
      "\n",
      "           * * *\n",
      "\n",
      "Machine precision = 2.220D-16\n",
      " N =            5     M =           10\n",
      "\n",
      "At X0         0 variables are exactly at the bounds\n",
      "\n",
      "At iterate    0    f=  4.86626D+00    |proj g|=  4.71192D-02\n",
      "\n",
      "At iterate    5    f=  4.84395D+00    |proj g|=  8.03832D-02\n",
      "\n",
      "At iterate   10    f=  4.75070D+00    |proj g|=  6.62387D-03\n",
      "\n",
      "At iterate   15    f=  4.75068D+00    |proj g|=  2.73559D-04\n"
     ]
    },
    {
     "name": "stderr",
     "output_type": "stream",
     "text": [
      " This problem is unconstrained.\n"
     ]
    },
    {
     "name": "stdout",
     "output_type": "stream",
     "text": [
      "\n",
      "At iterate   20    f=  4.75065D+00    |proj g|=  5.19472D-03\n",
      "\n",
      "At iterate   25    f=  4.75008D+00    |proj g|=  4.40345D-03\n",
      "\n",
      "At iterate   30    f=  4.74919D+00    |proj g|=  5.51056D-03\n",
      "\n",
      "At iterate   35    f=  4.74819D+00    |proj g|=  1.91759D-02\n",
      "\n",
      "At iterate   40    f=  4.74772D+00    |proj g|=  1.49108D-03\n",
      "\n",
      "At iterate   45    f=  4.74765D+00    |proj g|=  9.31196D-05\n",
      "\n",
      "At iterate   50    f=  4.74765D+00    |proj g|=  6.06057D-06\n",
      "\n",
      "           * * *\n",
      "\n",
      "Tit   = total number of iterations\n",
      "Tnf   = total number of function evaluations\n",
      "Tnint = total number of segments explored during Cauchy searches\n",
      "Skip  = number of BFGS updates skipped\n",
      "Nact  = number of active bounds at final generalized Cauchy point\n",
      "Projg = norm of the final projected gradient\n",
      "F     = final function value\n",
      "\n",
      "           * * *\n",
      "\n",
      "   N    Tit     Tnf  Tnint  Skip  Nact     Projg        F\n",
      "    5     50     54      1     0     0   6.061D-06   4.748D+00\n",
      "  F =   4.7476456003759759     \n",
      "\n",
      "STOP: TOTAL NO. of ITERATIONS REACHED LIMIT                 \n"
     ]
    },
    {
     "name": "stderr",
     "output_type": "stream",
     "text": [
      "/home/aleks/.conda/envs/jupyter/lib/python3.9/site-packages/statsmodels/base/model.py:607: ConvergenceWarning: Maximum Likelihood optimization failed to converge. Check mle_retvals\n",
      "  warnings.warn(\"Maximum Likelihood optimization failed to \"\n"
     ]
    },
    {
     "data": {
      "text/plain": [
       "<matplotlib.legend.Legend at 0x7f2aae79b6d0>"
      ]
     },
     "execution_count": 9,
     "metadata": {},
     "output_type": "execute_result"
    },
    {
     "data": {
      "image/png": "[encoded data removed]",
      "text/plain": [
       "<Figure size 640x480 with 1 Axes>"
      ]
     },
     "metadata": {},
     "output_type": "display_data"
    }
   ],
   "source": [
    "SARIMAXmodel = SARIMAX(y, order = (1, 1, 1), seasonal_order=(1,1,1,7))\n",
    "SARIMAXmodel = SARIMAXmodel.fit(low_memory=True, cov_type='none')\n",
    "\n",
    "y_pred = SARIMAXmodel.get_forecast(len(test.index))\n",
    "y_pred_df = y_pred.conf_int(alpha = 0.05) \n",
    "y_pred_df[\"Predictions\"] = SARIMAXmodel.predict(start = y_pred_df.index[0], end = y_pred_df.index[-1])\n",
    "y_pred_df.index = test.index\n",
    "y_pred_out = y_pred_df[\"Predictions\"] \n",
    "plt.plot(y, color = \"black\", label = \"Train\")\n",
    "plt.plot(test, color = \"red\", label = \"True\")\n",
    "plt.plot(y_pred_out, color='Blue', label = 'SARIMA Predictions')\n",
    "plt.legend()"
   ]
  },
  {
   "cell_type": "code",
   "execution_count": 10,
   "id": "1d8fd4a9",
   "metadata": {
    "ExecuteTime": {
     "end_time": "2024-02-24T12:01:55.849010Z",
     "start_time": "2024-02-24T12:01:54.541997Z"
    }
   },
   "outputs": [
    {
     "name": "stderr",
     "output_type": "stream",
     "text": [
      "/tmp/ipykernel_31047/138152063.py:2: UserWarning: Provided `endog` series has been differenced to eliminate integration prior to parameter estimation by method \"innovations_mle\".\n",
      "  ARIMAmodel = ARIMAmodel.fit(method='innovations_mle', low_memory=True, cov_type='none')\n"
     ]
    },
    {
     "name": "stdout",
     "output_type": "stream",
     "text": [
      "RMSE:  134.00554195435836\n"
     ]
    },
    {
     "data": {
      "image/png": "[encoded data removed]",
      "text/plain": [
       "<Figure size 640x480 with 1 Axes>"
      ]
     },
     "metadata": {},
     "output_type": "display_data"
    }
   ],
   "source": [
    "ARIMAmodel = ARIMA(y, order = (1, 1, 1), seasonal_order=(1,1,1,30))\n",
    "ARIMAmodel = ARIMAmodel.fit(method='innovations_mle', low_memory=True, cov_type='none')\n",
    "\n",
    "y_pred = ARIMAmodel.get_forecast(len(test.index))\n",
    "y_pred_df = y_pred.conf_int(alpha = 0.05) \n",
    "y_pred_df[\"Predictions\"] = ARIMAmodel.predict(start = y_pred_df.index[0], end = y_pred_df.index[-1])\n",
    "y_pred_df.index = test.index\n",
    "y_pred_out = y_pred_df[\"Predictions\"] \n",
    "plt.plot(y, color = \"black\", label = \"Train\")\n",
    "plt.plot(test, color = \"red\", label = \"Test\")\n",
    "plt.plot(y_pred_out, color='blue', label = 'ARIMA Predictions')\n",
    "plt.legend()\n",
    "\n",
    "\n",
    "import numpy as np\n",
    "from sklearn.metrics import mean_squared_error\n",
    "\n",
    "arma_rmse = np.sqrt(mean_squared_error(test.values, y_pred_df[\"Predictions\"]))\n",
    "print(\"RMSE: \",arma_rmse)"
   ]
  },
  {
   "cell_type": "code",
   "execution_count": 11,
   "id": "5cdce467",
   "metadata": {
    "ExecuteTime": {
     "end_time": "2024-02-24T12:02:00.719079Z",
     "start_time": "2024-02-24T12:01:59.988017Z"
    }
   },
   "outputs": [
    {
     "name": "stderr",
     "output_type": "stream",
     "text": [
      " This problem is unconstrained.\n"
     ]
    },
    {
     "name": "stdout",
     "output_type": "stream",
     "text": [
      "RUNNING THE L-BFGS-B CODE\n",
      "\n",
      "           * * *\n",
      "\n",
      "Machine precision = 2.220D-16\n",
      " N =            5     M =           10\n",
      "\n",
      "At X0         0 variables are exactly at the bounds\n",
      "\n",
      "At iterate    0    f=  4.84486D+00    |proj g|=  5.49512D-02\n",
      "\n",
      "At iterate    5    f=  4.81995D+00    |proj g|=  1.85302D-02\n",
      "\n",
      "At iterate   10    f=  4.73825D+00    |proj g|=  5.95882D-03\n",
      "\n",
      "At iterate   15    f=  4.73822D+00    |proj g|=  4.65547D-04\n",
      "\n",
      "At iterate   20    f=  4.73814D+00    |proj g|=  1.35249D-02\n",
      "\n",
      "At iterate   25    f=  4.73742D+00    |proj g|=  3.38246D-03\n",
      "\n",
      "At iterate   30    f=  4.73582D+00    |proj g|=  1.33863D-02\n",
      "\n",
      "At iterate   35    f=  4.73474D+00    |proj g|=  4.20756D-03\n",
      "\n",
      "At iterate   40    f=  4.73440D+00    |proj g|=  1.92716D-04\n",
      "\n",
      "At iterate   45    f=  4.73438D+00    |proj g|=  2.95875D-05\n",
      "\n",
      "           * * *\n",
      "\n",
      "Tit   = total number of iterations\n",
      "Tnf   = total number of function evaluations\n",
      "Tnint = total number of segments explored during Cauchy searches\n",
      "Skip  = number of BFGS updates skipped\n",
      "Nact  = number of active bounds at final generalized Cauchy point\n",
      "Projg = norm of the final projected gradient\n",
      "F     = final function value\n",
      "\n",
      "           * * *\n",
      "\n",
      "   N    Tit     Tnf  Tnint  Skip  Nact     Projg        F\n",
      "    5     45     57      1     0     0   2.959D-05   4.734D+00\n",
      "  F =   4.7343782686478502     \n",
      "\n",
      "CONVERGENCE: REL_REDUCTION_OF_F_<=_FACTR*EPSMCH             \n"
     ]
    }
   ],
   "source": [
    "model = SARIMAX(df, order = (1, 1, 1), seasonal_order=(1,1,1,7))\n",
    "model = model.fit(low_memory=True, cov_type='none')\n",
    "model.save('file')"
   ]
  },
  {
   "cell_type": "code",
   "execution_count": 12,
   "id": "b2b9d51e",
   "metadata": {
    "ExecuteTime": {
     "end_time": "2024-02-24T12:02:02.258767Z",
     "start_time": "2024-02-24T12:02:02.253575Z"
    }
   },
   "outputs": [],
   "source": [
    "model = SARIMAXResults.load(\"file\")"
   ]
  },
  {
   "cell_type": "code",
   "execution_count": 17,
   "id": "5cbaa546",
   "metadata": {
    "ExecuteTime": {
     "end_time": "2024-02-24T12:02:12.970862Z",
     "start_time": "2024-02-24T12:02:12.964552Z"
    }
   },
   "outputs": [],
   "source": [
    "model = ARIMAResults.load(\"file3.pickle\")"
   ]
  },
  {
   "cell_type": "code",
   "execution_count": 18,
   "id": "a60f1812",
   "metadata": {
    "ExecuteTime": {
     "end_time": "2024-02-24T12:02:13.737906Z",
     "start_time": "2024-02-24T12:02:13.523121Z"
    }
   },
   "outputs": [
    {
     "data": {
      "text/plain": [
       "<matplotlib.legend.Legend at 0x7f2a9df3a850>"
      ]
     },
     "execution_count": 18,
     "metadata": {},
     "output_type": "execute_result"
    },
    {
     "data": {
      "image/png": "[encoded data removed]",
      "text/plain": [
       "<Figure size 640x480 with 1 Axes>"
      ]
     },
     "metadata": {},
     "output_type": "display_data"
    }
   ],
   "source": [
    "start = pd.Timestamp.now() - pd.Timedelta('1 days')\n",
    "end = start + pd.Timedelta('150 days')\n",
    "target_df = pd.DataFrame([{'cum_consumption': 0}, {'cum_consumption': 0}], index=[start, end])\n",
    "target_df = target_df.resample(\"1D\").sum()\n",
    "\n",
    "\n",
    "target_df['Predictions'] = model.predict(start = target_df.index[0], end = target_df.index[-1])\n",
    "target_df = target_df[['Predictions']]\n",
    "\n",
    "plt.plot(df, color = \"black\", label = \"Data\")\n",
    "plt.plot(target_df, color='blue', label = 'ARIMA Predictions')\n",
    "plt.legend()"
   ]
  },
  {
   "cell_type": "code",
   "execution_count": 20,
   "id": "ba724268",
   "metadata": {
    "ExecuteTime": {
     "end_time": "2024-02-24T12:08:22.941064Z",
     "start_time": "2024-02-24T12:08:22.934297Z"
    }
   },
   "outputs": [
    {
     "data": {
      "text/plain": [
       "Predictions    654.81549\n",
       "dtype: float64"
      ]
     },
     "execution_count": 20,
     "metadata": {},
     "output_type": "execute_result"
    }
   ],
   "source": [
    "target_df.iloc[-1] - target_df.iloc[0]"
   ]
  },
  {
   "cell_type": "code",
   "execution_count": 14,
   "id": "b45d4dc7",
   "metadata": {
    "ExecuteTime": {
     "end_time": "2024-02-24T12:02:06.915018Z",
     "start_time": "2024-02-24T12:02:06.911905Z"
    }
   },
   "outputs": [],
   "source": [
    "res = target_df['Predictions'] - df['cum_consumption'][-1]"
   ]
  },
  {
   "cell_type": "code",
   "execution_count": 15,
   "id": "81828bf7",
   "metadata": {
    "ExecuteTime": {
     "end_time": "2024-02-24T12:02:07.218896Z",
     "start_time": "2024-02-24T12:02:07.212925Z"
    }
   },
   "outputs": [
    {
     "data": {
      "text/plain": [
       "2024-02-23   -169.542573\n",
       "2024-02-24   -166.067813\n",
       "2024-02-25      9.960323\n",
       "2024-02-26      8.184390\n",
       "2024-02-27      6.474165\n",
       "                 ...    \n",
       "2024-07-18    473.311521\n",
       "2024-07-19    475.090232\n",
       "2024-07-20    483.592793\n",
       "2024-07-21    495.185235\n",
       "2024-07-22    495.015842\n",
       "Freq: D, Name: Predictions, Length: 151, dtype: float64"
      ]
     },
     "execution_count": 15,
     "metadata": {},
     "output_type": "execute_result"
    }
   ],
   "source": [
    "res"
   ]
  },
  {
   "cell_type": "code",
   "execution_count": null,
   "id": "fff2e7b4",
   "metadata": {},
   "outputs": [],
   "source": []
  },
  {
   "cell_type": "code",
   "execution_count": 16,
   "id": "39d90a00",
   "metadata": {
    "ExecuteTime": {
     "end_time": "2024-02-24T12:02:09.496550Z",
     "start_time": "2024-02-24T12:02:09.147754Z"
    }
   },
   "outputs": [
    {
     "name": "stderr",
     "output_type": "stream",
     "text": [
      "/home/aleks/.conda/envs/jupyter/lib/python3.9/site-packages/statsmodels/tsa/statespace/sarimax.py:966: UserWarning: Non-stationary starting autoregressive parameters found. Using zeros as starting parameters.\n",
      "  warn('Non-stationary starting autoregressive parameters'\n",
      "/home/aleks/.conda/envs/jupyter/lib/python3.9/site-packages/statsmodels/tsa/statespace/sarimax.py:978: UserWarning: Non-invertible starting MA parameters found. Using zeros as starting parameters.\n",
      "  warn('Non-invertible starting MA parameters found.'\n"
     ]
    }
   ],
   "source": [
    "model2 = ARIMA(df, order = (1, 1, 1), trend='t')\n",
    "model2 = model2.fit(low_memory=True)\n",
    "model2.save('file3.pickle')"
   ]
  },
  {
   "cell_type": "code",
   "execution_count": null,
   "id": "ef7053ac",
   "metadata": {},
   "outputs": [],
   "source": []
  },
  {
   "cell_type": "code",
   "execution_count": null,
   "id": "6612c021",
   "metadata": {},
   "outputs": [],
   "source": []
  }
 ],
 "metadata": {
  "kernelspec": {
   "display_name": "Python [conda env:.conda-jupyter] *",
   "language": "python",
   "name": "conda-env-.conda-jupyter-py"
  },
  "language_info": {
   "codemirror_mode": {
    "name": "ipython",
    "version": 3
   },
   "file_extension": ".py",
   "mimetype": "text/x-python",
   "name": "python",
   "nbconvert_exporter": "python",
   "pygments_lexer": "ipython3",
   "version": "3.9.13"
  },
  "toc": {
   "base_numbering": 1,
   "nav_menu": {},
   "number_sections": true,
   "sideBar": true,
   "skip_h1_title": false,
   "title_cell": "Table of Contents",
   "title_sidebar": "Contents",
   "toc_cell": false,
   "toc_position": {},
   "toc_section_display": true,
   "toc_window_display": false
  },
  "varInspector": {
   "cols": {
    "lenName": 16,
    "lenType": 16,
    "lenVar": 40
   },
   "kernels_config": {
    "python": {
     "delete_cmd_postfix": "",
     "delete_cmd_prefix": "del ",
     "library": "var_list.py",
     "varRefreshCmd": "print(var_dic_list())"
    },
    "r": {
     "delete_cmd_postfix": ") ",
     "delete_cmd_prefix": "rm(",
     "library": "var_list.r",
     "varRefreshCmd": "cat(var_dic_list()) "
    }
   },
   "types_to_exclude": [
    "module",
    "function",
    "builtin_function_or_method",
    "instance",
    "_Feature"
   ],
   "window_display": false
  }
 },
 "nbformat": 4,
 "nbformat_minor": 5
}
